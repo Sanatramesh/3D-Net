{
 "cells": [
  {
   "cell_type": "code",
   "execution_count": 1,
   "metadata": {
    "collapsed": false,
    "deletable": true,
    "editable": true
   },
   "outputs": [],
   "source": [
    "from random import shuffle\n",
    "import TD_net_model as tDNet"
   ]
  },
  {
   "cell_type": "code",
   "execution_count": 2,
   "metadata": {
    "collapsed": false,
    "deletable": true,
    "editable": true
   },
   "outputs": [
    {
     "name": "stdout",
     "output_type": "stream",
     "text": [
      "('Test and Train split:', 640, 160)\n"
     ]
    }
   ],
   "source": [
    "data_files = tDNet.get_data_files_NTSD(tDNet.CAM_DIR, tDNet.DISPARITY_DIR)\n",
    "data_shuffled = data_files[:]\n",
    "shuffle(data_shuffled)\n",
    "\n",
    "train_data_files = data_shuffled[len(data_shuffled)//5:]\n",
    "test_data_files  = data_shuffled[:len(data_shuffled)//5]\n",
    "\n",
    "print ('Test and Train split:', len(train_data_files), len(test_data_files))"
   ]
  },
  {
   "cell_type": "markdown",
   "metadata": {
    "deletable": true,
    "editable": true
   },
   "source": [
    "## Build Model"
   ]
  },
  {
   "cell_type": "code",
   "execution_count": null,
   "metadata": {
    "collapsed": false,
    "deletable": true,
    "editable": true
   },
   "outputs": [
    {
     "name": "stdout",
     "output_type": "stream",
     "text": [
      "npy file loaded\n",
      "build model started\n",
      "build model finished: 0s\n"
     ]
    }
   ],
   "source": [
    "img_dims = [480, 640, 3]\n",
    "decoder_input_size = [60, 80, 256]\n",
    "output_dims = [480, 640, 1]\n",
    "\n",
    "net = tDNet.TDNet_VGG11(img_dims, output_dims, decoder_input_size, 'data/vgg16.npy', learning_rate = 1e-4)\n",
    "\n",
    "net.build_model()\n",
    "net.add_loss_optimizer()\n",
    "net.sess_init()"
   ]
  },
  {
   "cell_type": "markdown",
   "metadata": {
    "deletable": true,
    "editable": true
   },
   "source": [
    "## Train Model"
   ]
  },
  {
   "cell_type": "code",
   "execution_count": null,
   "metadata": {
    "collapsed": false,
    "deletable": true,
    "editable": true
   },
   "outputs": [
    {
     "name": "stdout",
     "output_type": "stream",
     "text": [
      "Training Model: TDNet with VGG11 encoder ... \n",
      "epoch:    0    train loss:           14992.8330     val loss:           14466.2129\n",
      "epoch:    1    train loss:            3553.8328     val loss:            3349.8101\n",
      "epoch:    2    train loss:            2955.5476     val loss:            3793.6299\n",
      "epoch:    3    train loss:            2747.6357     val loss:            2284.2012\n",
      "epoch:    4    train loss:            2359.7749     val loss:            3759.7864\n"
     ]
    }
   ],
   "source": [
    "# Training TDNet\n",
    "train = tDNet.ModelTraining(net, train_data_files, batch_size = 5, epochs = 10)\n",
    "train.train_model()"
   ]
  },
  {
   "cell_type": "markdown",
   "metadata": {
    "deletable": true,
    "editable": true
   },
   "source": [
    "## Test Model"
   ]
  },
  {
   "cell_type": "code",
   "execution_count": null,
   "metadata": {
    "collapsed": false,
    "deletable": true,
    "editable": true
   },
   "outputs": [],
   "source": [
    "# Testing TDNet\n",
    "test = tDNet.ModelTesting(net, test_data_files)\n",
    "test.test_model()"
   ]
  },
  {
   "cell_type": "code",
   "execution_count": null,
   "metadata": {
    "collapsed": true,
    "deletable": true,
    "editable": true
   },
   "outputs": [],
   "source": []
  }
 ],
 "metadata": {
  "kernelspec": {
   "display_name": "Python 2",
   "language": "python",
   "name": "python2"
  },
  "language_info": {
   "codemirror_mode": {
    "name": "ipython",
    "version": 2
   },
   "file_extension": ".py",
   "mimetype": "text/x-python",
   "name": "python",
   "nbconvert_exporter": "python",
   "pygments_lexer": "ipython2",
   "version": "2.7.12"
  }
 },
 "nbformat": 4,
 "nbformat_minor": 2
}
