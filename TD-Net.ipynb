{
 "cells": [
  {
   "cell_type": "code",
   "execution_count": null,
   "metadata": {
    "collapsed": false,
    "deletable": true,
    "editable": true
   },
   "outputs": [],
   "source": [
    "from random import shuffle\n",
    "import TD_net_model as tDNet"
   ]
  },
  {
   "cell_type": "code",
   "execution_count": null,
   "metadata": {
    "collapsed": false,
    "deletable": true,
    "editable": true
   },
   "outputs": [],
   "source": [
    "data_files = tDNet.get_data_files_NTSD(tDNet.CAM_DIR, tDNet.DISPARITY_DIR)\n",
    "data_shuffled = data_files[:]\n",
    "shuffle(data_shuffled)\n",
    "\n",
    "train_data_files = data_shuffled[len(data_shuffled)//5:]\n",
    "test_data_files  = data_shuffled[:len(data_shuffled)//5]\n",
    "\n",
    "print ('Test and Train split:', len(train_data_files), len(test_data_files))"
   ]
  },
  {
   "cell_type": "markdown",
   "metadata": {
    "deletable": true,
    "editable": true
   },
   "source": [
    "## Build Model"
   ]
  },
  {
   "cell_type": "code",
   "execution_count": null,
   "metadata": {
    "collapsed": false,
    "deletable": true,
    "editable": true
   },
   "outputs": [],
   "source": [
    "img_dims = [480, 640, 3]\n",
    "decoder_input_size = [60, 80, 256]\n",
    "output_dims = [480, 640, 1]\n",
    "\n",
    "net = tDNet.TDNet_VGG11(img_dims, output_dims, decoder_input_size, 'data/vgg16.npy', learning_rate = 1e-4)\n",
    "\n",
    "net.build_model()\n",
    "net.add_loss_optimizer()\n",
    "net.sess_init()"
   ]
  },
  {
   "cell_type": "markdown",
   "metadata": {
    "deletable": true,
    "editable": true
   },
   "source": [
    "## Train Model"
   ]
  },
  {
   "cell_type": "code",
   "execution_count": null,
   "metadata": {
    "collapsed": false,
    "deletable": true,
    "editable": true
   },
   "outputs": [],
   "source": [
    "# Training TDNet\n",
    "train = tDNet.ModelTraining(net, train_data_files, batch_size = 5, epochs = 100)\n",
    "train.train_model()"
   ]
  },
  {
   "cell_type": "markdown",
   "metadata": {
    "deletable": true,
    "editable": true
   },
   "source": [
    "## Test Model"
   ]
  },
  {
   "cell_type": "code",
   "execution_count": null,
   "metadata": {
    "collapsed": false
   },
   "outputs": [],
   "source": [
    "net.load_model('model/TD_net.ckpt')"
   ]
  },
  {
   "cell_type": "code",
   "execution_count": null,
   "metadata": {
    "collapsed": false,
    "deletable": true,
    "editable": true
   },
   "outputs": [],
   "source": [
    "# Testing TDNet\n",
    "test = tDNet.ModelTesting(net, test_data_files)\n",
    "test.test_model()"
   ]
  },
  {
   "cell_type": "code",
   "execution_count": null,
   "metadata": {
    "collapsed": true
   },
   "outputs": [],
   "source": []
  }
 ],
 "metadata": {
  "kernelspec": {
   "display_name": "Python 2",
   "language": "python",
   "name": "python2"
  },
  "language_info": {
   "codemirror_mode": {
    "name": "ipython",
    "version": 2
   },
   "file_extension": ".py",
   "mimetype": "text/x-python",
   "name": "python",
   "nbconvert_exporter": "python",
   "pygments_lexer": "ipython2",
   "version": "2.7.12"
  }
 },
 "nbformat": 4,
 "nbformat_minor": 2
}
